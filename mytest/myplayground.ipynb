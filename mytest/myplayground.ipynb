{
 "cells": [
  {
   "cell_type": "code",
   "execution_count": 1,
   "metadata": {
    "collapsed": true
   },
   "outputs": [
    {
     "data": {
      "text/plain": [
       "'2.0.11'"
      ]
     },
     "execution_count": 1,
     "metadata": {},
     "output_type": "execute_result"
    }
   ],
   "source": [
    "import plotly\n",
    "plotly.__version__"
   ]
  },
  {
   "cell_type": "code",
   "execution_count": 3,
   "metadata": {},
   "outputs": [
    {
     "name": "stdout",
     "output_type": "stream",
     "text": [
      "High five! You successfuly sent some data to your account on plotly. View your plot in your browser at https://plot.ly/~lingzhangfrg/0 or inside your plot.ly account where it is named 'basic-line'\n"
     ]
    },
    {
     "data": {
      "text/html": [
       "<iframe id=\"igraph\" scrolling=\"no\" style=\"border:none;\" seamless=\"seamless\" src=\"https://plot.ly/~lingzhangfrg/0.embed\" height=\"525px\" width=\"100%\"></iframe>"
      ],
      "text/plain": [
       "<iframe id=\"igraph\" scrolling=\"no\" style=\"border:none;\" seamless=\"seamless\" src=\"https://plot.ly/~lingzhangfrg/0.embed\" height=\"525px\" width=\"100%\"></iframe>"
      ]
     },
     "execution_count": 3,
     "metadata": {},
     "output_type": "execute_result"
    }
   ],
   "source": [
    "import plotly.plotly as py\n",
    "import plotly.graph_objs as go\n",
    "# Create random data with numpy\n",
    "import numpy as np\n",
    "\n",
    "plotly.tools.set_credentials_file(username='lingzhangfrg', api_key='uuofXaGSchIDbhUVjWfB')\n",
    "\n",
    "N = 500\n",
    "random_x = np.linspace(0, 1, N)\n",
    "random_y = np.random.randn(N)\n",
    "\n",
    "# Create a trace\n",
    "trace = go.Scatter(\n",
    "    x = random_x,\n",
    "    y = random_y\n",
    ")\n",
    "\n",
    "data = [trace]\n",
    "\n",
    "py.iplot(data, filename='basic-line')\n"
   ]
  },
  {
   "cell_type": "code",
   "execution_count": 5,
   "metadata": {},
   "outputs": [],
   "source": [
    ""
   ]
  },
  {
   "cell_type": "code",
   "execution_count": null,
   "metadata": {},
   "outputs": [],
   "source": [
    "import requests, pprint\n",
    "import datetime\n",
    "import numpy as np\n",
    "import plotly.plotly as py\n",
    "import plotly.graph_objs as go\n",
    "plotly.tools.set_credentials_file(username='lingzhangfrg', api_key='uuofXaGSchIDbhUVjWfB')\n",
    "\n",
    "myurl = \"http://app-dev.vor.frgrisk.com:7980/SASStoredProcess/do?_username=stpservice@saspw&_password=%7BSAS002%7DF7A6FA3F175EB5A8504C13D1570D585D&_program=%2FSystem%2FApplications%2FVOR+System%2FCommon%2Fstps%2FFactorModel%2Ffit_model&_action=EXECUTE&start_dt=03Jun2008&end_dt=30Jun2017&freq=MONTH&fund=146&model_sk=168&factor=130&factor=131&restrict=.&restrict=3\"\n",
    "\n",
    "\n",
    "\n",
    "TOTAL_IT = 10\n",
    "SINGLE_IT = 1\n",
    "\n",
    "print(10*\"--*--\")\n",
    "SamplePath = np.array([])\n",
    "\n",
    "TEST_START = datetime.datetime.now()\n",
    "\n",
    "for it in range(TOTAL_IT):\n",
    "\n",
    "    if (it+1)/TOTAL_IT*100%10 == 0:\n",
    "        print(\"Progress:\" + str(it/TOTAL_IT*100)+\"%\")\n",
    "\n",
    "    t_start = datetime.datetime.now()\n",
    "    for _ in range(SINGLE_IT):\n",
    "        r = requests.get(myurl)\n",
    "\n",
    "    t_end = datetime.datetime.now()\n",
    "    SamplePath = np.append(SamplePath,[t_end - t_start])\n",
    "    # print(\"Total time: \"+ str(t_end - t_start) )\n",
    "TEST_END = datetime.datetime.now()\n",
    "\n",
    "print(5 * \"--*--\" + \" The end \" + 5 * \"--*--\")\n",
    "print(\"Total Time:\" + str(TEST_START)+\" to \"+ str(TEST_END))\n",
    "    \n",
    "trace = go.Scatter(\n",
    "    x = random_x,\n",
    "    y = random_y\n",
    ")\n",
    "\n"
   ]
  },
  {
   "cell_type": "code",
   "execution_count": 5,
   "metadata": {},
   "outputs": [
    {
     "data": {
      "image/png": "[encoded data removed]",
      "text/plain": [
       "<matplotlib.figure.Figure at 0x1851c2787b8>"
      ]
     },
     "metadata": {},
     "output_type": "display_data"
    }
   ],
   "source": [
    "import matplotlib.pyplot as plt\n",
    "plt.plot([1,2,3,4])\n",
    "plt.ylabel('some numbers')\n",
    "plt.show()"
   ]
  },
  {
   "cell_type": "code",
   "execution_count": null,
   "metadata": {},
   "outputs": [],
   "source": [
    ""
   ]
  }
 ],
 "metadata": {
  "kernelspec": {
   "display_name": "Python 2",
   "language": "python",
   "name": "python2"
  },
  "language_info": {
   "codemirror_mode": {
    "name": "ipython",
    "version": 2.0
   },
   "file_extension": ".py",
   "mimetype": "text/x-python",
   "name": "python",
   "nbconvert_exporter": "python",
   "pygments_lexer": "ipython2",
   "version": "2.7.6"
  }
 },
 "nbformat": 4,
 "nbformat_minor": 0
}